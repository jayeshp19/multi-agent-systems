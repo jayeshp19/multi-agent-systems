{
  "cells": [
    {
      "cell_type": "code",
      "execution_count": null,
      "metadata": {
        "id": "InitialSetup"
      },
      "outputs": [],
      "source": [
        "# Copyright 2024 Google LLC\n",
        "#\n",
        "# Licensed under the Apache License, Version 2.0 (the \"License\");\n",
        "# you may not use this file except in compliance with the License.\n",
        "# You may obtain a copy of the License at\n",
        "#\n",
        "#     https://www.apache.org/licenses/LICENSE-2.0\n",
        "#\n",
        "# Unless required by applicable law or agreed to in writing, software\n",
        "# distributed under the License is distributed on an \"AS IS\" BASIS,\n",
        "# WITHOUT WARRANTIES OR CONDITIONS OF ANY KIND, either express or implied.\n",
        "# See the License for the specific language governing permissions and\n",
        "# limitations under the License."
      ]
    },
    {
      "cell_type": "markdown",
      "metadata": {
        "id": "Introduction"
      },
      "source": [
        "# Working with Parallel Function Calls and Multiple Function Responses in Gemini (Asynchronous Example)\n",
        "\n",
        "<table align=\"left\">\n",
        "  <td style=\"text-align: center\">\n",
        "    <a href=\"https://colab.research.google.com/github/GoogleCloudPlatform/generative-ai/blob/main/gemini/function-calling/parallel_function_calling_async.ipynb\">\n",
        "      <img src=\"https://cloud.google.com/ml-engine/images/colab-logo-32px.png\" alt=\"Google Colaboratory logo\"><br> Open in Colab\n",
        "    </a>\n",
        "  </td>\n",
        "  <td style=\"text-align: center\">\n",
        "    <a href=\"https://console.cloud.google.com/vertex-ai/colab/import/https:%2F%2Fraw.githubusercontent.com%2FGoogleCloudPlatform%2Fgenerative-ai%2Fmain%2Fgemini%2Ffunction-calling%2Fparallel_function_calling_async.ipynb\">\n",
        "      <img width=\"32px\" src=\"https://lh3.googleusercontent.com/JmcxdQi-qOpctIvWKgPtrzZdJJK-J3sWE1RsfjZNwshCFgE_9fULcNpuXYTilIR2hjwN\" alt=\"Google Cloud Colab Enterprise logo\"><br> Open in Colab Enterprise\n",
        "    </a>\n",
        "  </td>    \n",
        "  <td style=\"text-align: center\">\n",
        "    <a href=\"https://console.cloud.google.com/vertex-ai/workbench/deploy-notebook?download_url=https://raw.githubusercontent.com/GoogleCloudPlatform/generative-ai/main/gemini/function-calling/parallel_function_calling_async.ipynb\">\n",
        "      <img src=\"https://lh3.googleusercontent.com/UiNooY4LUgW_oTvpsNhPpQzsstV5W8F7rYgxgGBD85cWJoLmrOzhVs_ksK_vgx40SHs7jCqkTkCk=e14-rj-sc0xffffff-h130-w32\" alt=\"Vertex AI logo\"><br> Open in Workbench\n",
        "    </a>\n",
        "  </td>\n",
        "  <td style=\"text-align: center\">\n",
        "    <a href=\"https://github.com/GoogleCloudPlatform/generative-ai/blob/main/gemini/function-calling/parallel_function_calling_async.ipynb\">\n",
        "      <img src=\"https://cloud.google.com/ml-engine/images/github-logo-32px.png\" alt=\"GitHub logo\"><br> View on GitHub\n",
        "    </a>\n",
        "  </td>\n",
        "</table>"
      ]
    },
    {
      "cell_type": "markdown",
      "metadata": {
        "id": "AuthorInfo"
      },
      "source": [
        "| | |\n",
        "|-|-|\n",
        "|Author(s) | [Kristopher Overholt](https://github.com/koverholt) |"
      ]
    },
    {
      "cell_type": "markdown",
      "metadata": {
        "id": "Overview"
      },
      "source": [
        "## Overview\n",
        "\n",
        "Gemini is a family of generative AI models developed by Google DeepMind designed for multimodal use cases. The Gemini API provides access to the Gemini Pro and Gemini Pro Vision models.\n",
        "\n",
        "[Function Calling](https://cloud.google.com/vertex-ai/docs/generative-ai/multimodal/function-calling) in Gemini allows you to describe functions in your code and pass those descriptions to the language model. The model's response includes the name of a function that matches the description along with the arguments to call it with.\n",
        "\n",
        "This asynchronous tutorial demonstrates how to handle parallel function calls within Gemini Function Calling, including:\n",
        "\n",
        "- Handling parallel function calls for repeated functions asynchronously\n",
        "- Working with parallel function calls across multiple functions asynchronously\n",
        "- Extracting multiple function calls from a Gemini response\n",
        "- Making multiple asynchronous function calls and returning responses to Gemini\n",
        "\n",
        "### What is parallel function calling?\n",
        "\n",
        "In previous Gemini Pro models (prior to May 2024), Gemini returned chained function calls if multiple function calls were needed before returning a natural language summary. Chained function calls require sequential processing.\n",
        "\n",
        "Recent Gemini Pro models (from May 2024 onward) support parallel function calling, allowing multiple function call responses within a single response object. This enables parallelizing API calls or other actions in your application code, reducing the need for sequential processing.\n",
        "\n",
        "<img src=\"https://storage.googleapis.com/github-repo/generative-ai/gemini/function-calling/parallel-function-calling-in-gemini.png\">"
      ]
    },
    {
      "cell_type": "markdown",
      "metadata": {
        "id": "GettingStarted"
      },
      "source": [
        "## Getting Started\n"
      ]
    },
    {
      "cell_type": "markdown",
      "metadata": {
        "id": "InstallPackages"
      },
      "source": [
        "### Install Vertex AI SDK and Other Required Packages"
      ]
    },
    {
      "cell_type": "code",
      "execution_count": 1,
      "metadata": {
        "id": "InstallDependencies"
      },
      "outputs": [],
      "source": [
        "%pip install --upgrade --user --quiet google-cloud-aiplatform wikipedia aiohttp"
      ]
    },
    {
      "cell_type": "markdown",
      "metadata": {
        "id": "RestartRuntime"
      },
      "source": [
        "### Restart Runtime\n",
        "\n",
        "To use the newly installed packages in this Jupyter runtime, you must restart the runtime. Run the cell below to restart the current kernel.\n",
        "\n",
        "The restart might take a minute or longer. After it's restarted, continue to the next step."
      ]
    },
    {
      "cell_type": "code",
      "execution_count": 2,
      "metadata": {
        "id": "RestartKernel"
      },
      "outputs": [],
      "source": [
        "import IPython\n",
        "\n",
        "app = IPython.Application.instance()\n",
        "app.kernel.do_shutdown(True)"
      ]
    },
    {
      "cell_type": "markdown",
      "metadata": {
        "id": "RestartWarning"
      },
      "source": [
        "<div class=\"alert alert-block alert-warning\">\n",
        "<b>⚠️ The kernel is going to restart. Please wait until it is finished before continuing to the next step. ⚠️</b>\n",
        "</div>\n"
      ]
    },
    {
      "cell_type": "markdown",
      "metadata": {
        "id": "AuthenticateColab"
      },
      "source": [
        "### Authenticate Your Notebook Environment (Colab Only)\n",
        "\n",
        "If you are running this notebook on Google Colab, run the cell below to authenticate your environment."
      ]
    },
    {
      "cell_type": "code",
      "execution_count": 3,
      "metadata": {
        "id": "Authenticate"
      },
      "outputs": [],
      "source": [
        "import sys\n",
        "\n",
        "if \"google.colab\" in sys.modules:\n",
        "    from google.colab import auth\n",
        "\n",
        "    auth.authenticate_user()"
      ]
    },
    {
      "cell_type": "markdown",
      "metadata": {
        "id": "SetProjectInfo"
      },
      "source": [
        "### Set Google Cloud Project Information and Initialize Vertex AI SDK\n",
        "\n",
        "To get started using Vertex AI, you must have an existing Google Cloud project and [enable the Vertex AI API](https://console.cloud.google.com/flows/enableapi?apiid=aiplatform.googleapis.com).\n",
        "\n",
        "Learn more about [setting up a project and a development environment](https://cloud.google.com/vertex-ai/docs/start/cloud-environment)."
      ]
    },
    {
      "cell_type": "code",
      "execution_count": 4,
      "metadata": {
        "id": "InitializeVertexAI"
      },
      "outputs": [],
      "source": [
        "PROJECT_ID = \"[your-project-id]\"  # @param {type:\"string\"}\n",
        "LOCATION = \"us-central1\"  # @param {type:\"string\"}\n",
        "\n",
        "import vertexai\n",
        "\n",
        "vertexai.init(project=PROJECT_ID, location=LOCATION)"
      ]
    },
    {
      "cell_type": "markdown",
      "metadata": {
        "id": "CodeExamples"
      },
      "source": [
        "## Code Examples\n",
        "\n",
        "### Import Libraries"
      ]
    },
    {
      "cell_type": "code",
      "execution_count": 5,
      "metadata": {
        "id": "ImportLibraries"
      },
      "outputs": [],
      "source": [
        "from typing import Any, Dict\n",
        "import asyncio\n",
        "from IPython.display import Markdown, display\n",
        "from vertexai.generative_models import (\n",
        "    FunctionDeclaration,\n",
        "    GenerationConfig,\n",
        "    GenerationResponse,\n",
        "    GenerativeModel,\n",
        "    Part,\n",
        "    Tool,\n",
        ")\n",
        "import wikipedia"
      ]
    },
    {
      "cell_type": "markdown",
      "metadata": {
        "id": "DefineHelperFunction"
      },
      "source": [
        "### Define Helper Function"
      ]
    },
    {
      "cell_type": "code",
      "execution_count": 6,
      "metadata": {
        "id": "HelperFunction"
      },
      "outputs": [],
      "source": [
        "# Helper function to extract one or more function calls from a Gemini Function Call response\n",
        "def extract_function_calls(response: GenerationResponse) -> list[Dict[str, Dict[str, Any]]]:\n",
        "    function_calls: list[Dict[str, Dict[str, Any]]] = []\n",
        "    if response.candidates[0].function_calls:\n",
        "        for function_call in response.candidates[0].function_calls:\n",
        "            function_call_dict: Dict[str, Dict[str, Any]] = {function_call.name: {}}\n",
        "            for key, value in function_call.args.items():\n",
        "                function_call_dict[function_call.name][key] = value\n",
        "            function_calls.append(function_call_dict)\n",
        "    return function_calls"
      ]
    },
    {
      "cell_type": "markdown",
      "metadata": {
        "id": "AsyncParallelSameFunction"
      },
      "source": [
        "## Example: Parallel Function Calls on the Same Function (Asynchronous)\n",
        "\n",
        "This example demonstrates how to perform parallel function calls asynchronously when you have a function that accepts one parameter per API call and you need to make repeated calls to that function.\n",
        "\n",
        "With Parallel Function Calling and asynchronous operations, you can send a single API request to Gemini, receive multiple function call responses, make asynchronous external API calls, and return all responses to Gemini in bulk without extra configuration."
      ]
    },
    {
      "cell_type": "markdown",
      "metadata": {
        "id": "DefineFunctionDeclarationsAsync"
      },
      "source": [
        "### Write Function Declarations and Wrap Them in a Tool"
      ]
    },
    {
      "cell_type": "code",
      "execution_count": 7,
      "metadata": {
        "id": "FunctionDeclarationsAsync"
      },
      "outputs": [],
      "source": [
        "search_wikipedia = FunctionDeclaration(\n",
        "    name=\"search_wikipedia\",\n",
        "    description=\"Search for articles on Wikipedia\",\n",
        "    parameters={\n",
        "        \"type\": \"object\",\n",
        "        \"properties\": {\n",
        "            \"query\": {\n",
        "                \"type\": \"string\",\n",
        "                \"description\": \"Query to search for on Wikipedia\",\n",
        "            },\n",
        "        },\n",
        "    },\n",
        ")\n",
        "\n",
        "wikipedia_tool = Tool(\n",
        "    function_declarations=[\n",
        "        search_wikipedia,\n",
        "    ],\n",
        ")"
      ]
    },
    {
      "cell_type": "markdown",
      "metadata": {
        "id": "InitializeGeminiAsync"
      },
      "source": [
        "### Initialize the Gemini Model"
      ]
    },
    {
      "cell_type": "code",
      "execution_count": 8,
      "metadata": {
        "id": "InitializeGeminiAsync"
      },
      "outputs": [],
      "source": [
        "model = GenerativeModel(\n",
        "    \"gemini-1.5-pro\",\n",
        "    generation_config=GenerationConfig(temperature=0),\n",
        "    tools=[wikipedia_tool],\n",
        ")\n",
        "chat = model.start_chat()"
      ]
    },
    {
      "cell_type": "markdown",
      "metadata": {
        "id": "SendPromptAsync"
      },
      "source": [
        "### Send Prompt to Gemini Asynchronously"
      ]
    },
    {
      "cell_type": "code",
      "execution_count": 9,
      "metadata": {
        "id": "SendPromptAsync"
      },
      "outputs": [],
      "source": [
        "prompt = \"Search for articles related to solar panels, renewable energy, and battery storage and provide a summary of your findings\""
      ]
    },
    {
      "cell_type": "code",
      "execution_count": 10,
      "metadata": {
        "id": "SendMessageAsync"
      },
      "outputs": [],
      "source": [
        "import asyncio\n",
        "\n",
        "async def get_response_async(chat, prompt):\n",
        "    response = await chat.send_message_async(prompt)\n",
        "    return response\n",
        "\n",
        "response = asyncio.run(get_response_async(chat, prompt))"
      ]
    },
    {
      "cell_type": "markdown",
      "metadata": {
        "id": "ExtractFunctionsAsync"
      },
      "source": [
        "### Extract Function Names and Parameters"
      ]
    },
    {
      "cell_type": "code",
      "execution_count": 11,
      "metadata": {
        "id": "ExtractFunctionsAsync"
      },
      "outputs": [
        {
          "data": {
            "text/plain": [
              "[{'search_wikipedia': {'query': 'Solar panels'}},\n",
              " {'search_wikipedia': {'query': 'Renewable energy'}},\n",
              " {'search_wikipedia': {'query': 'Battery storage'}}]"
            ]
          },
          "execution_count": 11,
          "metadata": {},
          "output_type": "execute_result"
        }
      ],
      "source": [
        "function_calls = extract_function_calls(response)\n",
        "function_calls"
      ]
    },
    {
      "cell_type": "markdown",
      "metadata": {
        "id": "AsyncAPICalls"
      },
      "source": [
        "### Make Asynchronous External API Calls"
      ]
    },
    {
      "cell_type": "code",
      "execution_count": 12,
      "metadata": {
        "id": "MakeAsyncCalls"
      },
      "outputs": [
        {
          "name": "stdout",
          "output_type": "stream",
          "text": [
            "{'search_wikipedia': {'query': 'Solar panels'}}\n",
            "{'search_wikipedia': {'query': 'Renewable energy'}}\n",
            "{'search_wikipedia': {'query': 'Battery storage'}}\n"
          ]
        }
      ],
      "source": [
        "import asyncio\n",
        "\n",
        "async def fetch_summary(query: str) -> str:\n",
        "    loop = asyncio.get_event_loop()\n",
        "    return await loop.run_in_executor(None, wikipedia.summary, query)\n",
        "\n",
        "async def process_function_call(function_call: Dict[str, Dict[str, Any]]) -> str:\n",
        "    print(function_call)\n",
        "    function_name, function_args = next(iter(function_call.items()))\n",
        "    if function_name == \"search_wikipedia\":\n",
        "        query = function_args[\"query\"]\n",
        "        summary = await fetch_summary(query)\n",
        "        return summary\n",
        "    return \"\"\n",
        "\n",
        "async def make_api_calls(function_calls: list) -> list:\n",
        "    tasks = [process_function_call(fc) for fc in function_calls]\n",
        "    return await asyncio.gather(*tasks)\n",
        "\n",
        "api_responses = asyncio.run(make_api_calls(function_calls))"
      ]
    },
    {
      "cell_type": "markdown",
      "metadata": {
        "id": "ReturnToGeminiAsync"
      },
      "source": [
        "### Return API Responses to Gemini Asynchronously"
      ]
    },
    {
      "cell_type": "code",
      "execution_count": 13,
      "metadata": {
        "id": "ReturnToGeminiAsync"
      },
      "outputs": [
        {
          "data": {
            "text/markdown": [
              "Solar panels are devices that convert sunlight into electricity using photovoltaic cells. They are arranged in arrays or systems and connected to inverters to convert DC electricity to AC electricity. Solar panels are a renewable and clean energy source that can reduce greenhouse gas emissions and lower electricity bills. However, they depend on sunlight availability, require cleaning, and have high initial costs.\n",
              "\n",
              "Renewable energy refers to energy derived from renewable resources like sunlight, wind, and water. These sources are naturally replenished and have minimal environmental impact. Renewable energy systems have become increasingly efficient and affordable, leading to significant growth in their adoption. They offer a cleaner and more sustainable alternative to fossil fuels, mitigating climate change and reducing air pollution.\n",
              "\n",
              "Battery storage power stations utilize batteries to store electrical energy, providing a rapid response to grid fluctuations and enhancing grid stability. They are essential for integrating renewable energy sources like solar and wind power, which have intermittent generation patterns. Battery storage systems can store excess energy generated during peak periods and release it when demand exceeds supply, ensuring a reliable and continuous power supply.\n",
              "\n",
              "In summary, solar panels, renewable energy, and battery storage are interconnected aspects of a sustainable energy future. Solar panels harness solar energy, a renewable resource, while battery storage addresses the intermittency challenges associated with renewable energy sources. The combination of these technologies paves the way for a cleaner, more resilient, and sustainable energy system."
            ],
            "text/plain": [
              "<IPython.core.display.Markdown object>"
            ]
          },
          "execution_count": 13,
          "metadata": {},
          "output_type": "display_data"
        }
      ],
      "source": [
        "async def return_to_gemini(chat, api_responses: list):\n",
        "    parts = [\n",
        "        Part.from_function_response(\n",
        "            name=\"search_wikipedia\",\n",
        "            response={\n",
        "                \"content\": api_responses[0],\n",
        "            },\n",
        "        ),\n",
        "        Part.from_function_response(\n",
        "            name=\"search_wikipedia\",\n",
        "            response={\n",
        "                \"content\": api_responses[1],\n",
        "            },\n",
        "        ),\n",
        "        Part.from_function_response(\n",
        "            name=\"search_wikipedia\",\n",
        "            response={\n",
        "                \"content\": api_responses[2],\n",
        "            },\n",
        "        ),\n",
        "    ]\n",
        "    response = await chat.send_message_async(parts)\n",
        "    display(Markdown(response.text))\n",
        "\n",
        "asyncio.run(return_to_gemini(chat, api_responses))"
      ]
    },
    {
      "cell_type": "markdown",
      "metadata": {
        "id": "CompletionAsync"
      },
      "source": [
        "And you're done with no extra configuration necessary!\n",
        "\n",
        "Note that Gemini will use the information in your `FunctionDeclarations` to determine if and when it should return parallel Function Call responses, or if it needs to make sequential calls based on dependencies. Ensure your logic accounts for this behavior."
      ]
    },
    {
      "cell_type": "markdown",
      "metadata": {
        "id": "ParallelMultipleFunctionsAsync"
      },
      "source": [
        "## Example: Parallel Function Calls Across Multiple Functions (Asynchronous)\n",
        "\n",
        "This example demonstrates how to perform parallel function calls asynchronously when you have multiple, independent functions. This reduces the number of consecutive Gemini API calls and can decrease the overall response time for the end user.\n",
        "\n",
        "In this example, you'll use Parallel Function Calling in Gemini to retrieve multiple aspects of topics and articles on [Wikipedia](https://www.wikipedia.org/)."
      ]
    },
    {
      "cell_type": "markdown",
      "metadata": {
        "id": "DefineMultipleFunctionsAsync"
      },
      "source": [
        "### Write Function Declarations and Wrap Them in a Tool"
      ]
    },
    {
      "cell_type": "code",
      "execution_count": 14,
      "metadata": {
        "id": "DefineMultipleFunctionsAsync"
      },
      "outputs": [],
      "source": [
        "search_wikipedia = FunctionDeclaration(\n",
        "    name=\"search_wikipedia\",\n",
        "    description=\"Search for articles on Wikipedia\",\n",
        "    parameters={\n",
        "        \"type\": \"object\",\n",
        "        \"properties\": {\n",
        "            \"query\": {\n",
        "                \"type\": \"string\",\n",
        "                \"description\": \"Query to search for on Wikipedia\",\n",
        "            },\n",
        "        },\n",
        "    },\n",
        ")\n",
        "\n",
        "suggest_wikipedia = FunctionDeclaration(\n",
        "    name=\"suggest_wikipedia\",\n",
        "    description=\"Get suggested titles from Wikipedia for a given term\",\n",
        "    parameters={\n",
        "        \"type\": \"object\",\n",
        "        \"properties\": {\n",
        "            \"query\": {\n",
        "                \"type\": \"string\",\n",
        "                \"description\": \"Query to search for suggested titles on Wikipedia\",\n",
        "            },\n",
        "        },\n",
        "    },\n",
        ")\n",
        "\n",
        "summarize_wikipedia = FunctionDeclaration(\n",
        "    name=\"summarize_wikipedia\",\n",
        "    description=\"Get article summaries from Wikipedia\",\n",
        "    parameters={\n",
        "        \"type\": \"object\",\n",
        "        \"properties\": {\n",
        "            \"topic\": {\n",
        "                \"type\": \"string\",\n",
        "                \"description\": \"Topic to summarize from Wikipedia\",\n",
        "            },\n",
        "        },\n",
        "    },\n",
        ")\n",
        "\n",
        "wikipedia_tool = Tool(\n",
        "    function_declarations=[\n",
        "        search_wikipedia,\n",
        "        suggest_wikipedia,\n",
        "        summarize_wikipedia,\n",
        "    ],\n",
        ")"
      ]
    },
    {
      "cell_type": "markdown",
      "metadata": {
        "id": "InitializeGeminiMultipleAsync"
      },
      "source": [
        "### Initialize the Gemini Model"
      ]
    },
    {
      "cell_type": "code",
      "execution_count": 15,
      "metadata": {
        "id": "InitializeGeminiMultipleAsync"
      },
      "outputs": [],
      "source": [
        "model = GenerativeModel(\n",
        "    \"gemini-1.5-pro\",\n",
        "    generation_config=GenerationConfig(temperature=0),\n",
        "    tools=[wikipedia_tool],\n",
        ")\n",
        "chat = model.start_chat()"
      ]
    },
    {
      "cell_type": "markdown",
      "metadata": {
        "id": "SendPromptMultipleAsync"
      },
      "source": [
        "### Send Prompt to Gemini Asynchronously"
      ]
    },
    {
      "cell_type": "code",
      "execution_count": 16,
      "metadata": {
        "id": "SendPromptMultipleAsync"
      },
      "outputs": [],
      "source": [
        "prompt = \"Show the search results, variations, and article summaries about Wikipedia articles related to the solar system\""
      ]
    },
    {
      "cell_type": "code",
      "execution_count": 17,
      "metadata": {
        "id": "SendMessageMultipleAsync"
      },
      "outputs": [],
      "source": [
        "response = asyncio.run(get_response_async(chat, prompt))"
      ]
    },
    {
      "cell_type": "markdown",
      "metadata": {
        "id": "ExtractFunctionsMultipleAsync"
      },
      "source": [
        "### Extract Function Names and Parameters"
      ]
    },
    {
      "cell_type": "code",
      "execution_count": 18,
      "metadata": {
        "id": "ExtractFunctionsMultipleAsync"
      },
      "outputs": [
        {
          "data": {
            "text/plain": [
              "[{'search_wikipedia': {'query': 'Solar System'}},\n",
              " {'suggest_wikipedia': {'query': 'Solar System'}},\n",
              " {'summarize_wikipedia': {'topic': 'Solar System'}}]"
            ]
          },
          "execution_count": 18,
          "metadata": {},
          "output_type": "execute_result"
        }
      ],
      "source": [
        "function_calls = extract_function_calls(response)\n",
        "function_calls"
      ]
    },
    {
      "cell_type": "markdown",
      "metadata": {
        "id": "MakeAPICallsMultipleAsync"
      },
      "source": [
        "### Make Asynchronous External API Calls"
      ]
    },
    {
      "cell_type": "code",
      "execution_count": 19,
      "metadata": {
        "id": "MakeAPICallsMultipleAsync"
      },
      "outputs": [
        {
          "name": "stdout",
          "output_type": "stream",
          "text": [
            "{'search_wikipedia': {'query': 'Solar System'}}\n",
            "{'suggest_wikipedia': {'query': 'Solar System'}}\n",
            "{'summarize_wikipedia': {'topic': 'Solar System'}}\n"
          ]
        }
      ],
      "source": [
        "async def process_function_call_multiple(function_call: Dict[str, Dict[str, Any]]) -> Any:\n",
        "    print(function_call)\n",
        "    function_name, function_args = next(iter(function_call.items()))\n",
        "    if function_name == \"search_wikipedia\":\n",
        "        query = function_args[\"query\"]\n",
        "        results = wikipedia.search(query)\n",
        "        return \", \".join(results)\n",
        "    elif function_name == \"suggest_wikipedia\":\n",
        "        query = function_args[\"query\"]\n",
        "        suggestion = wikipedia.suggest(query)\n",
        "        return suggestion or \"No suggestions found\"\n",
        "    elif function_name == \"summarize_wikipedia\":\n",
        "        topic = function_args[\"topic\"]\n",
        "        summary = await fetch_summary(topic)\n",
        "        return summary\n",
        "    return \"\"\n",
        "\n",
        "async def make_api_calls_multiple(function_calls: list) -> Dict[str, Any]:\n",
        "    tasks = [process_function_call_multiple(fc) for fc in function_calls]\n",
        "    results = await asyncio.gather(*tasks)\n",
        "    return {\n",
        "        function_name: result\n",
        "        for (function_call, result) in zip(function_calls, results)\n",
        "        for function_name in function_call.keys()\n",
        "    }\n",
        "\n",
        "api_responses = asyncio.run(make_api_calls_multiple(function_calls))"
      ]
    },
    {
      "cell_type": "markdown",
      "metadata": {
        "id": "ReturnToGeminiMultipleAsync"
      },
      "source": [
        "### Return API Responses to Gemini Asynchronously"
      ]
    },
    {
      "cell_type": "code",
      "execution_count": 20,
      "metadata": {
        "id": "ReturnToGeminiMultipleAsync"
      },
      "outputs": [
        {
          "data": {
            "text/markdown": [
              "Here's some information about the solar system:\n",
              "\n",
              "Search results: \"Solar System\", \"Formation and evolution of the Solar System\", \"List of Solar System objects by size\", \"Photovoltaic system\", \"Solar System (disambiguation)\", \"Solar System belts\", \"Small Solar System body\", \"List of Solar System objects\", \"Passive solar building design\", \"List of natural satellites\"\n",
              "\n",
              "Suggested searches: \"soler system\"\n",
              "\n",
              "Summary: The Solar System formed about 4.6 billion years ago. It contains the Sun, eight planets (Mercury, Venus, Earth, Mars, Jupiter, Saturn, Uranus, Neptune), at least nine dwarf planets, and countless smaller objects like asteroids and comets.  The Sun, a G-type main-sequence star, contains over 99.86% of the Solar System's mass.  The outer boundary of the Solar System is theorized to be the Oort cloud, extending up to 2,000,000 AU from the Sun."
            ],
            "text/plain": [
              "<IPython.core.display.Markdown object>"
            ]
          },
          "execution_count": 20,
          "metadata": {},
          "output_type": "display_data"
        }
      ],
      "source": [
        "async def return_to_gemini_multiple(chat, api_responses: Dict[str, Any]):\n",
        "    parts = [\n",
        "        Part.from_function_response(\n",
        "            name=\"search_wikipedia\",\n",
        "            response={\n",
        "                \"content\": api_responses.get(\"search_wikipedia\", \"\"),\n",
        "            },\n",
        "        ),\n",
        "        Part.from_function_response(\n",
        "            name=\"suggest_wikipedia\",\n",
        "            response={\n",
        "                \"content\": api_responses.get(\"suggest_wikipedia\", \"\"),\n",
        "            },\n",
        "        ),\n",
        "        Part.from_function_response(\n",
        "            name=\"summarize_wikipedia\",\n",
        "            response={\n",
        "                \"content\": api_responses.get(\"summarize_wikipedia\", \"\"),\n",
        "            },\n",
        "        ),\n",
        "    ]\n",
        "    response = await chat.send_message_async(parts)\n",
        "    display(Markdown(response.text))\n",
        "\n",
        "asyncio.run(return_to_gemini_multiple(chat, api_responses))"
      ]
    },
    {
      "cell_type": "markdown",
      "metadata": {
        "id": "CompletionMultipleAsync"
      },
      "source": [
        "And you're done! You successfully made parallel function calls across multiple functions asynchronously. Feel free to adapt the code samples here for your own use cases and applications. Explore other functionalities in the Gemini API by trying different notebooks.\n",
        "\n",
        "Happy asynchronous parallel function calling!"
      ]
    }
  ],
  "metadata": {
    "colab": {
      "name": "parallel_function_calling_async.ipynb",
      "toc_visible": true
    },
    "kernelspec": {
      "display_name": "Python 3",
      "name": "python3"
    }
  },
  "nbformat": 4,
  "nbformat_minor": 0
}
