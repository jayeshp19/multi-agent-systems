{
  "cells": [
    {
      "cell_type": "markdown",
      "metadata": {
        "id": "view-in-github",
        "colab_type": "text"
      },
      "source": [
        "<a href=\"https://colab.research.google.com/github/jayeshp19/multi-agent-systems/blob/main/restaurant_supervisor_multiagent.ipynb\" target=\"_parent\"><img src=\"https://colab.research.google.com/assets/colab-badge.svg\" alt=\"Open In Colab\"/></a>"
      ]
    },
    {
      "cell_type": "markdown",
      "id": "32a7fac0-452b-4bf5-ac58-5b1f19a4e4ae",
      "metadata": {
        "id": "32a7fac0-452b-4bf5-ac58-5b1f19a4e4ae"
      },
      "source": [
        "### Graphs\n",
        "At its core, LangGraph models agent workflows as graphs. We can define the behavior of agents using three key components:\n",
        "\n",
        "#### State:\n",
        "- A shared data structure that represents the current snapshot of our application. It can be any Python type, but is typically a TypedDict or Pydantic BaseModel.\n",
        "\n",
        "#### Nodes:\n",
        "- Python functions that encode the logic of agents. They receive the current State as input, perform some computation or side-effect, and return an updated State.\n",
        "\n",
        "#### Edges:\n",
        "- Python functions that determine which Node to execute next based on the current State. They can be conditional branches or fixed transitions.\n",
        "\n",
        "By composing Nodes and Edges, we can create complex, looping workflows that evolve the State over time. To emphasize: Nodes and Edges are nothing more than Python functions - they can contain an LLM or just good ol' Python code.\n",
        "\n",
        "In short: nodes do the work. edges tell what to do next.\n",
        "\n",
        "##### Reference : [LangGraph Glossary](https://langchain-ai.github.io/langgraph/concepts/low_level/)"
      ]
    },
    {
      "cell_type": "markdown",
      "id": "26354add-9a3b-4bd0-972b-47eb2e64139e",
      "metadata": {
        "id": "26354add-9a3b-4bd0-972b-47eb2e64139e"
      },
      "source": [
        "### Multi-agent Systems:\n",
        "There are several ways to connect agents in a multi-agent system:\n",
        "\n",
        "#### Network Agent:\n",
        "- each agent can communicate with every other agent. Any agent can decide which other agent to call next.\n",
        "#### Supervisor Agent:\n",
        "- each agent communicates with a single supervisor agent. Supervisor agent makes decisions on which agent should be called next.\n",
        "#### Supervisor (tool-calling) Agent:\n",
        "- this is a special case of supervisor architecture. Individual agents can be represented as tools. In this case, a supervisor agent uses a tool-calling LLM to decide which of the agent tools to call, as well as the arguments to pass to those agents.\n",
        "#### Hierarchical Agent:\n",
        "- we can define a multi-agent system with a supervisor of supervisors. This is a generalization of the supervisor architecture and allows for more complex control flows.\n",
        "#### Custom multi-agent workflow:\n",
        "- each agent communicates with only a subset of agents. Parts of the flow are deterministic, and only some agents can decide which other agents to call next.\n",
        "\n",
        "\n",
        "##### Reference : [Multi-agent Systems](https://langchain-ai.github.io/langgraph/concepts/multi_agent/)"
      ]
    },
    {
      "cell_type": "raw",
      "id": "77dd2fbd-8536-4228-a351-d741b59e0c72",
      "metadata": {
        "id": "77dd2fbd-8536-4228-a351-d741b59e0c72"
      },
      "source": []
    },
    {
      "cell_type": "markdown",
      "id": "edfb1353-2831-4e5f-a7e0-1cba5c4e1cbb",
      "metadata": {
        "id": "edfb1353-2831-4e5f-a7e0-1cba5c4e1cbb"
      },
      "source": [
        "In Below Example I'm using supervisor agent for restaurant booking\n",
        "\n",
        "\n",
        "![title](https://github.com/jayeshp19/multi-agent-systems/blob/main/rsm_concept.png?raw=1)\n",
        "![title](https://github.com/jayeshp19/multi-agent-systems/blob/main/rsm.png?raw=1)"
      ]
    },
    {
      "cell_type": "code",
      "execution_count": null,
      "id": "000af333-fb1a-4226-80f9-eeb0b0582c4d",
      "metadata": {
        "id": "000af333-fb1a-4226-80f9-eeb0b0582c4d"
      },
      "outputs": [],
      "source": [
        "%%capture --no-stderr\n",
        "%pip install -U langgraph langchain langchain_openai langchain_experimental langsmith pandas"
      ]
    },
    {
      "cell_type": "code",
      "execution_count": null,
      "id": "aa8bd97e-eb18-4703-9372-0a4b8c184366",
      "metadata": {
        "id": "aa8bd97e-eb18-4703-9372-0a4b8c184366"
      },
      "outputs": [],
      "source": [
        "import getpass\n",
        "import os\n",
        "# from dotenv import load_dotenv\n",
        "# load_dotenv(override=True)\n",
        "def _set_if_undefined(var: str):\n",
        "    if not os.environ.get(var):\n",
        "        os.environ[var] = getpass.getpass(f\"Please provide your {var}\")\n",
        "_set_if_undefined(\"OPENAI_API_KEY\")\n"
      ]
    },
    {
      "cell_type": "code",
      "execution_count": null,
      "id": "00fa1242-03c8-417e-9047-33a7a7068736",
      "metadata": {
        "id": "00fa1242-03c8-417e-9047-33a7a7068736"
      },
      "outputs": [],
      "source": [
        "# Create Tools\n",
        "from typing import Annotated\n",
        "from langchain.tools import tool\n",
        "@tool\n",
        "def check_availability(\n",
        "    date: Annotated[str, \"date in YYYY-MM-DD format\"],\n",
        "    time: Annotated[str, \"time for the day, i.e. Morning, Afternoon, Evening\"]\n",
        ") -> str:\n",
        "    \"\"\"Checks availability for restaurant reservation.\"\"\"\n",
        "    try:\n",
        "        return f\"Available for {date} {time}\"\n",
        "    except Exception as e:\n",
        "        raise\n",
        "\n",
        "@tool\n",
        "def book_reservation(\n",
        "    name: Annotated[str, \"Name of person\"],\n",
        "    count: Annotated[int, \"The count of people\"]\n",
        ") -> str:\n",
        "    \"\"\"Books a restaurant reservation.\"\"\"\n",
        "    try:\n",
        "        return f\"Successfully booked for {name} (party of {count})\"\n",
        "    except Exception as e:\n",
        "        raise"
      ]
    },
    {
      "cell_type": "code",
      "source": [
        "# Define Agent State\n",
        "import operator\n",
        "from typing_extensions import TypedDict\n",
        "from langchain_core.messages import BaseMessage\n",
        "\n",
        "class AgentState(TypedDict):\n",
        "    messages: Annotated[Sequence[BaseMessage], operator.add]\n",
        "    next: str"
      ],
      "metadata": {
        "id": "sdPAeQUBR6LM"
      },
      "id": "sdPAeQUBR6LM",
      "execution_count": null,
      "outputs": []
    },
    {
      "cell_type": "markdown",
      "id": "142ad8ae-c694-4a58-acc1-9ff40c53727d",
      "metadata": {
        "id": "142ad8ae-c694-4a58-acc1-9ff40c53727d"
      },
      "source": [
        "Define Supervisor Agent"
      ]
    },
    {
      "cell_type": "code",
      "execution_count": null,
      "id": "3e2bcb49-d5a8-4dd7-abd0-9d648af54744",
      "metadata": {
        "id": "3e2bcb49-d5a8-4dd7-abd0-9d648af54744"
      },
      "outputs": [],
      "source": [
        "from langchain_core.prompts import ChatPromptTemplate, MessagesPlaceholder\n",
        "from langchain_openai import ChatOpenAI\n",
        "from pydantic import BaseModel, Field\n",
        "from typing import Literal\n",
        "\n",
        "\n",
        "SYSTEM_PROMPT = \"\"\"\n",
        "You are a supervisor managing a restaurant booking workflow with these team members:\n",
        "{members}\n",
        "\n",
        "Team responsibilities:\n",
        "- Frontdesk: Validates availability and handles initial customer inquiries\n",
        "- Booking: Processes final reservation booking after availability is confirmed\n",
        "\n",
        "Workflow rules:\n",
        "1. Frontdesk MUST check availability first\n",
        "2. Booking can only process after availability is confirmed\n",
        "3. Respond with FINISH when:\n",
        "   - User's request is completed or question is answered\n",
        "   - Booking is successfully completed\n",
        "   - Request cannot be fulfilled\n",
        "   - Error occurs that cannot be resolved\n",
        "\n",
        "Current conversation follows. Who should act next or should we FINISH?\n",
        "\"\"\"\n",
        "\n",
        "members = [\"Frontdesk\", \"Booking\", \"User\"]\n",
        "\n",
        "class RouteResponse(BaseModel):\n",
        "    next: Literal[\"FINISH\", \"Frontdesk\", \"Booking\", \"User\"] = Field(\n",
        "        description=\"Next action to take in the workflow\"\n",
        "    )\n",
        "\n",
        "prompt = ChatPromptTemplate.from_messages(\n",
        "    [\n",
        "        (\"system\", SYSTEM_PROMPT),\n",
        "        MessagesPlaceholder(variable_name=\"messages\"),\n",
        "        (\n",
        "            \"system\",\n",
        "            \"Given the conversation above, who should act next?\"\n",
        "            \" Or should we FINISH? Select one of: {options}\",\n",
        "        ),\n",
        "    ]\n",
        ").partial(options=str([\"FINISH\"] + members), members=\", \".join(members))\n",
        "\n",
        "\n",
        "llm = ChatOpenAI(model=\"gpt-4o-mini\")\n",
        "\n",
        "def supervisor_agent(state):\n",
        "    supervisor_chain = prompt | llm.with_structured_output(RouteResponse)\n",
        "    return supervisor_chain.invoke(state)\n",
        "\n",
        "def human_feedback(state):\n",
        "    print({state['messages'][-1].content})\n",
        "    user_input = input()\n",
        "    return {\n",
        "        \"messages\": [HumanMessage(content=user_input)]\n",
        "    }"
      ]
    },
    {
      "cell_type": "code",
      "execution_count": null,
      "id": "6947e413-bec8-4bab-8e23-bc1ba10c803c",
      "metadata": {
        "id": "6947e413-bec8-4bab-8e23-bc1ba10c803c"
      },
      "outputs": [],
      "source": [
        "# Create agent Nodes\n",
        "import functools\n",
        "from langgraph.prebuilt import create_react_agent\n",
        "from langchain_core.messages import HumanMessage\n",
        "\n",
        "def agent_node(state, agent, name):\n",
        "    result = agent.invoke(state)\n",
        "    return {\n",
        "        \"messages\": [HumanMessage(content=result[\"messages\"][-1].content, name=name)]\n",
        "    }\n",
        "\n",
        "# We are using LangGraph's prebuilt create_react_agent, which creates simple re-act agent\n",
        "frontdesk_agent = create_react_agent(llm, state_modifier = \"You're a helpful frontdesk receptionist at Restaurant\" , tools=[check_availability])\n",
        "booking_agent = create_react_agent(llm,state_modifier = \"You're a helpful Booking agent for Restaurant reservation\" , tools=[book_reservation])\n",
        "\n",
        "frontdesk_node = functools.partial(\n",
        "    agent_node, agent=frontdesk_agent, name=\"Frontdesk\"\n",
        ")\n",
        "booking_node = functools.partial(\n",
        "    agent_node, agent=booking_agent, name=\"Booking\"\n",
        ")"
      ]
    },
    {
      "cell_type": "code",
      "execution_count": null,
      "id": "2a660199-4fa0-4b06-8477-0df59ce3e78b",
      "metadata": {
        "id": "2a660199-4fa0-4b06-8477-0df59ce3e78b",
        "outputId": "e6fa9434-5300-4197-9f30-291dfe4bde96"
      },
      "outputs": [
        {
          "data": {
            "text/plain": [
              "<langgraph.graph.state.StateGraph at 0x13a0e52aa10>"
            ]
          },
          "execution_count": 80,
          "metadata": {},
          "output_type": "execute_result"
        }
      ],
      "source": [
        " # Initialize workflow\n",
        "from langgraph.graph import END, StateGraph, START\n",
        "\n",
        "workflow = StateGraph(AgentState)\n",
        "\n",
        "# Add nodes\n",
        "workflow.add_node(\"Frontdesk\", frontdesk_node)\n",
        "workflow.add_node(\"Booking\", booking_node)\n",
        "workflow.add_node(\"supervisor\", supervisor_agent)\n",
        "workflow.add_node(\"User\", human_feedback)\n",
        "\n",
        "# Configure edges\n",
        "for member in members:\n",
        "    workflow.add_edge(member, \"supervisor\")\n",
        "\n",
        "conditional_map = {k: k for k in members}\n",
        "conditional_map[\"FINISH\"] = END\n",
        "workflow.add_conditional_edges(\n",
        "    \"supervisor\",\n",
        "    lambda x: x[\"next\"],\n",
        "    conditional_map\n",
        ")\n",
        "\n",
        "workflow.add_edge(START, \"supervisor\")"
      ]
    },
    {
      "cell_type": "code",
      "execution_count": null,
      "id": "c9464184-7cf0-4795-a347-5f6b4ab9e669",
      "metadata": {
        "id": "c9464184-7cf0-4795-a347-5f6b4ab9e669"
      },
      "outputs": [],
      "source": [
        "graph = workflow.compile()"
      ]
    },
    {
      "cell_type": "code",
      "execution_count": null,
      "id": "965bb90d-c124-40ed-9650-8ac00d700328",
      "metadata": {
        "id": "965bb90d-c124-40ed-9650-8ac00d700328",
        "outputId": "4490d38a-095e-4d49-c48f-adc8bf80c8be"
      },
      "outputs": [
        {
          "data": {
            "image/jpeg": "[encoded data removed]",
            "text/plain": [
              "<IPython.core.display.Image object>"
            ]
          },
          "metadata": {},
          "output_type": "display_data"
        }
      ],
      "source": [
        "from IPython.display import Image, display\n",
        "display(Image(graph.get_graph(xray=1).draw_mermaid_png()))"
      ]
    },
    {
      "cell_type": "code",
      "execution_count": null,
      "id": "39c9f286-fa81-467c-9058-3528d1bf4790",
      "metadata": {
        "id": "39c9f286-fa81-467c-9058-3528d1bf4790",
        "outputId": "bb436f19-ad3a-44f9-9b6f-fa3e84ec357d"
      },
      "outputs": [
        {
          "name": "stdout",
          "output_type": "stream",
          "text": [
            "{'supervisor': {'next': 'Frontdesk'}}\n",
            "----\n",
            "{'Frontdesk': {'messages': [HumanMessage(content='Could you please provide me with the time you would like to book the seat for tomorrow? The options are Morning, Afternoon, or Evening.', additional_kwargs={}, response_metadata={}, name='Frontdesk')]}}\n",
            "----\n",
            "{'supervisor': {'next': 'User'}}\n",
            "----\n",
            "{'Could you please provide me with the time you would like to book the seat for tomorrow? The options are Morning, Afternoon, or Evening.'}\n"
          ]
        },
        {
          "name": "stdin",
          "output_type": "stream",
          "text": [
            " Evening\n"
          ]
        },
        {
          "name": "stdout",
          "output_type": "stream",
          "text": [
            "{'User': {'messages': [HumanMessage(content='Evening', additional_kwargs={}, response_metadata={})]}}\n",
            "----\n",
            "{'supervisor': {'next': 'Frontdesk'}}\n",
            "----\n",
            "{'Frontdesk': {'messages': [HumanMessage(content='We have availability for an evening reservation tomorrow, November 30th. How many guests will be in your party?', additional_kwargs={}, response_metadata={}, name='Frontdesk')]}}\n",
            "----\n",
            "{'supervisor': {'next': 'Frontdesk'}}\n",
            "----\n",
            "{'Frontdesk': {'messages': [HumanMessage(content='Please let me know the number of guests in your party for the evening reservation.', additional_kwargs={}, response_metadata={}, name='Frontdesk')]}}\n",
            "----\n",
            "{'supervisor': {'next': 'User'}}\n",
            "----\n",
            "{'Please let me know the number of guests in your party for the evening reservation.'}\n"
          ]
        },
        {
          "name": "stdin",
          "output_type": "stream",
          "text": [
            " 3\n"
          ]
        },
        {
          "name": "stdout",
          "output_type": "stream",
          "text": [
            "{'User': {'messages': [HumanMessage(content='3', additional_kwargs={}, response_metadata={})]}}\n",
            "----\n",
            "{'supervisor': {'next': 'Booking'}}\n",
            "----\n",
            "{'Booking': {'messages': [HumanMessage(content='Your reservation for 3 guests has been successfully booked for tomorrow evening, November 30th. If you need any further assistance, feel free to ask!', additional_kwargs={}, response_metadata={}, name='Booking')]}}\n",
            "----\n",
            "{'supervisor': {'next': 'FINISH'}}\n",
            "----\n"
          ]
        }
      ],
      "source": [
        "for s in graph.stream(\n",
        "    {\n",
        "        \"messages\": [\n",
        "            HumanMessage(content=\"I want to book a seat tomorrow\")\n",
        "        ]\n",
        "    }\n",
        "):\n",
        "    if \"__end__\" not in s:\n",
        "        print(s)\n",
        "        print(\"----\")"
      ]
    },
    {
      "cell_type": "code",
      "execution_count": null,
      "id": "343d3dd6-04a0-4932-b73f-df7f27cd0878",
      "metadata": {
        "id": "343d3dd6-04a0-4932-b73f-df7f27cd0878",
        "outputId": "76943a49-c35f-4267-a7e9-9ff55e099978"
      },
      "outputs": [
        {
          "name": "stdout",
          "output_type": "stream",
          "text": [
            "{'supervisor': {'next': 'Frontdesk'}}\n",
            "----\n",
            "{'Frontdesk': {'messages': [HumanMessage(content='Hello! How can I assist you today?', additional_kwargs={}, response_metadata={}, name='Frontdesk')]}}\n",
            "----\n",
            "{'supervisor': {'next': 'User'}}\n",
            "----\n",
            "{'Hello! How can I assist you today?'}\n"
          ]
        },
        {
          "name": "stdin",
          "output_type": "stream",
          "text": [
            " I need a seat tomorrow evening\n"
          ]
        },
        {
          "name": "stdout",
          "output_type": "stream",
          "text": [
            "{'User': {'messages': [HumanMessage(content='I need a seat tomorrow evening', additional_kwargs={}, response_metadata={})]}}\n",
            "----\n",
            "{'supervisor': {'next': 'Frontdesk'}}\n",
            "----\n",
            "{'Frontdesk': {'messages': [HumanMessage(content=\"Could you please provide me with the date for tomorrow and the time you'd like to make the reservation for?\", additional_kwargs={}, response_metadata={}, name='Frontdesk')]}}\n",
            "----\n",
            "{'supervisor': {'next': 'User'}}\n",
            "----\n",
            "{\"Could you please provide me with the date for tomorrow and the time you'd like to make the reservation for?\"}\n"
          ]
        },
        {
          "name": "stdin",
          "output_type": "stream",
          "text": [
            " 26th oct\n"
          ]
        },
        {
          "name": "stdout",
          "output_type": "stream",
          "text": [
            "{'User': {'messages': [HumanMessage(content='26th oct', additional_kwargs={}, response_metadata={})]}}\n",
            "----\n",
            "{'supervisor': {'next': 'Frontdesk'}}\n",
            "----\n",
            "{'Frontdesk': {'messages': [HumanMessage(content='We have availability for a reservation tomorrow evening, October 26th. How many people will be in your party?', additional_kwargs={}, response_metadata={}, name='Frontdesk')]}}\n",
            "----\n",
            "{'supervisor': {'next': 'User'}}\n",
            "----\n",
            "{'We have availability for a reservation tomorrow evening, October 26th. How many people will be in your party?'}\n"
          ]
        },
        {
          "name": "stdin",
          "output_type": "stream",
          "text": [
            " 2\n"
          ]
        },
        {
          "name": "stdout",
          "output_type": "stream",
          "text": [
            "{'User': {'messages': [HumanMessage(content='2', additional_kwargs={}, response_metadata={})]}}\n",
            "----\n",
            "{'supervisor': {'next': 'Booking'}}\n",
            "----\n",
            "{'Booking': {'messages': [HumanMessage(content='Your reservation for two people has been successfully booked for tomorrow evening, October 26th. If you need any further assistance, feel free to ask!', additional_kwargs={}, response_metadata={}, name='Booking')]}}\n",
            "----\n",
            "{'supervisor': {'next': 'FINISH'}}\n",
            "----\n"
          ]
        }
      ],
      "source": [
        "for s in graph.stream(\n",
        "    {\n",
        "        \"messages\": [\n",
        "            HumanMessage(content=\"Hi\")\n",
        "        ]\n",
        "    }\n",
        "):\n",
        "    if \"__end__\" not in s:\n",
        "        print(s)\n",
        "        print(\"----\")"
      ]
    },
    {
      "cell_type": "code",
      "execution_count": null,
      "id": "25d017ab-1b35-423c-88cb-0c9db47371ee",
      "metadata": {
        "id": "25d017ab-1b35-423c-88cb-0c9db47371ee"
      },
      "outputs": [],
      "source": []
    }
  ],
  "metadata": {
    "kernelspec": {
      "display_name": "Python 3 (ipykernel)",
      "language": "python",
      "name": "python3"
    },
    "language_info": {
      "codemirror_mode": {
        "name": "ipython",
        "version": 3
      },
      "file_extension": ".py",
      "mimetype": "text/x-python",
      "name": "python",
      "nbconvert_exporter": "python",
      "pygments_lexer": "ipython3",
      "version": "3.11.9"
    },
    "colab": {
      "provenance": [],
      "include_colab_link": true
    }
  },
  "nbformat": 4,
  "nbformat_minor": 5
}